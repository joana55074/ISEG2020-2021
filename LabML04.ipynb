{
 "cells": [
  {
   "cell_type": "markdown",
   "metadata": {},
   "source": [
    "**LabML04**\n",
    "\n",
    "Explain the initial dataset\n",
    "\n",
    "What type of transformation was performed?\n",
    "\n",
    "What is the meaning of this transformation?\n",
    "\n",
    "What other type of processing may be performed?"
   ]
  },
  {
   "cell_type": "code",
   "execution_count": 1,
   "metadata": {},
   "outputs": [],
   "source": [
    "#CRIA UM MODELO PCA E REFERE O NUMERO DE COMPONENTES PCA\n",
    "from sklearn.decomposition import PCA\n",
    "import pandas as pd"
   ]
  },
  {
   "cell_type": "code",
   "execution_count": 2,
   "metadata": {},
   "outputs": [],
   "source": [
    "#Vou buscar dados que estão armazenados no github\n",
    "df=pd.read_csv(\"https://raw.githubusercontent.com/masterfloss/data/main/worlddata.csv\")"
   ]
  },
  {
   "cell_type": "code",
   "execution_count": 3,
   "metadata": {},
   "outputs": [
    {
     "data": {
      "text/plain": [
       "Country                                            object\n",
       "Area_km2                                            int64\n",
       "Birth rate(births/1000 population)                float64\n",
       "Current account balance                           float64\n",
       "Death rate(deaths/1000 population)                float64\n",
       "Debt - external                                   float64\n",
       "Electricity - consumption(kWh)                    float64\n",
       "Electricity - production(kWh)                     float64\n",
       "Exports                                           float64\n",
       "GDP                                                object\n",
       "GDPpercapita                                      float64\n",
       "GDP - real growth rate(%)                         float64\n",
       "HIV/AIDS - adult prevalence rate(%)               float64\n",
       "HIV/AIDS - deaths                                 float64\n",
       "HIV/AIDS - people living with HIV/AIDS            float64\n",
       "Highways(km)                                      float64\n",
       "Imports                                           float64\n",
       "Industrial production growth rate(%)              float64\n",
       "Infant mortality rate(deaths/1000 live births)    float64\n",
       "Inflation rate (consumer prices)(%)               float64\n",
       "Internet hosts                                    float64\n",
       "Internet users                                    float64\n",
       "Investment (gross fixed)(% of GDP)                float64\n",
       "Labor force                                       float64\n",
       "Life expectancy at birth(years)                   float64\n",
       "Military expenditures - dollar figure             float64\n",
       "MilitPercentGDP                                   float64\n",
       "Natural gas - consumption(cu m)                   float64\n",
       "Natural gas - exports(cu m)                       float64\n",
       "Natural gas - imports(cu m)                       float64\n",
       "Natural gas - production(cu m)                    float64\n",
       "Natural gas - proved reserves(cu m)               float64\n",
       "Oil - consumption(bbl/day)                        float64\n",
       "Oil - exports(bbl/day)                            float64\n",
       "Oil - imports(bbl/day)                            float64\n",
       "Oil - production(bbl/day)                         float64\n",
       "Oil - proved reserves(bbl)                        float64\n",
       "Population                                        float64\n",
       "Public debt(% of GDP)                             float64\n",
       "Railways(km)                                      float64\n",
       "Reserves of foreign exchange & gold               float64\n",
       "Telephones - main lines in use                    float64\n",
       "Telephones - mobile cellular                      float64\n",
       "Total fertility rate(children born/woman)         float64\n",
       "Unemploy rate(%)                                  float64\n",
       "dtype: object"
      ]
     },
     "execution_count": 3,
     "metadata": {},
     "output_type": "execute_result"
    }
   ],
   "source": [
    "#estão guardados no dataframe\n",
    "df.dtypes"
   ]
  },
  {
   "cell_type": "code",
   "execution_count": 4,
   "metadata": {},
   "outputs": [],
   "source": [
    "#Transformar o GDP para o tipo de dado float\n",
    "df['GDP']=pd.to_numeric(df['GDP'], downcast='float', errors='coerce')"
   ]
  },
  {
   "cell_type": "code",
   "execution_count": 5,
   "metadata": {},
   "outputs": [],
   "source": [
    "#Elimina a coluna country porque so vou utilizar dados numericos\n",
    "df1=df.drop(['Country'], axis=1)"
   ]
  },
  {
   "cell_type": "code",
   "execution_count": 6,
   "metadata": {},
   "outputs": [],
   "source": [
    "#Eliminar todas as linhas que não têm dados \n",
    "X=df1.dropna()"
   ]
  },
  {
   "cell_type": "code",
   "execution_count": 7,
   "metadata": {},
   "outputs": [],
   "source": [
    "#É necessário standarizar primeiro\n",
    "#Cria um modelo PCA e refere o numero de componentes\n",
    "PCAModel = PCA(n_components=4)\n",
    "\n",
    "\n",
    "XPCA = PCAModel.fit(X).transform(X)"
   ]
  },
  {
   "cell_type": "code",
   "execution_count": 8,
   "metadata": {},
   "outputs": [
    {
     "name": "stdout",
     "output_type": "stream",
     "text": [
      "Original number of features: 44\n",
      "Reduced number of features: 4\n"
     ]
    }
   ],
   "source": [
    "#Imprmiir o numero de featuress originais e a que foram reduzidas\n",
    "print('Original number of features:', X.shape[1])\n",
    "print('Reduced number of features:', XPCA.shape[1])"
   ]
  },
  {
   "cell_type": "code",
   "execution_count": 9,
   "metadata": {},
   "outputs": [
    {
     "data": {
      "text/plain": [
       "array([0.68694987, 0.22798736, 0.08364335, 0.00101543])"
      ]
     },
     "execution_count": 9,
     "metadata": {},
     "output_type": "execute_result"
    }
   ],
   "source": [
    "# saber qual é o nivel de explicação\n",
    "PCAModel.explained_variance_ratio_"
   ]
  },
  {
   "cell_type": "code",
   "execution_count": null,
   "metadata": {},
   "outputs": [],
   "source": []
  },
  {
   "cell_type": "code",
   "execution_count": null,
   "metadata": {},
   "outputs": [],
   "source": []
  }
 ],
 "metadata": {
  "kernelspec": {
   "display_name": "Python 3",
   "language": "python",
   "name": "python3"
  },
  "language_info": {
   "codemirror_mode": {
    "name": "ipython",
    "version": 3
   },
   "file_extension": ".py",
   "mimetype": "text/x-python",
   "name": "python",
   "nbconvert_exporter": "python",
   "pygments_lexer": "ipython3",
   "version": "3.8.3"
  }
 },
 "nbformat": 4,
 "nbformat_minor": 2
}
