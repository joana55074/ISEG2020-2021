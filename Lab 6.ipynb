{
 "cells": [
  {
   "cell_type": "markdown",
   "metadata": {},
   "source": [
    "Lab 6\n",
    "\n",
    "-calculate NPV. The rate is a float and the cash flows and investment are in a list.\n",
    "\n",
    "-create a function called NPV to calculate NPV\n",
    "\n",
    "-create a function to calcule IRR. In order to calculate IRR you may aproximate the follwoing\n",
    "\n",
    "-expression: rate= rate*(1-NPV(CFList, rate)/invest)\n",
    "\n",
    "-create a function for payback period"
   ]
  },
  {
   "cell_type": "markdown",
   "metadata": {},
   "source": [
    "1- Supose you have the follwoing cashflow"
   ]
  },
  {
   "cell_type": "code",
   "execution_count": 16,
   "metadata": {},
   "outputs": [],
   "source": [
    "CashFlows=[]\n",
    "CF1=400\n",
    "CF2=200\n",
    "CF3=450\n",
    "CF4=300\n",
    "Investimento=3000\n",
    "rate=0.08"
   ]
  },
  {
   "cell_type": "code",
   "execution_count": 17,
   "metadata": {},
   "outputs": [
    {
     "name": "stdout",
     "output_type": "stream",
     "text": [
      "[400, 200, 450, 300]\n"
     ]
    }
   ],
   "source": [
    "CashFlows.append(CF1)\n",
    "CashFlows.append(CF2)\n",
    "CashFlows.append(CF3)\n",
    "CashFlows.append(CF4)\n",
    "print(CashFlows)"
   ]
  },
  {
   "cell_type": "markdown",
   "metadata": {},
   "source": [
    "2 - Calcule the NPV sugestion: iterate both by index and value using enumerate"
   ]
  },
  {
   "cell_type": "code",
   "execution_count": 19,
   "metadata": {},
   "outputs": [
    {
     "data": {
      "text/plain": [
       "-1880.4284012712608"
      ]
     },
     "execution_count": 19,
     "metadata": {},
     "output_type": "execute_result"
    }
   ],
   "source": [
    "def npv(CashFlows, rate):\n",
    "    return sum (f/((1 + rate)**i)\n",
    "for i, f in enumerate (CashFlows, 1))-Investimento\n",
    "npv (CashFlows, rate)"
   ]
  },
  {
   "cell_type": "markdown",
   "metadata": {},
   "source": [
    "create a function to calcule IRR. In order to calculate IRR you may aproximate the follwoing\n",
    "expression: rate= rate*(1-NPV(CFList, rate)/invest)"
   ]
  },
  {
   "cell_type": "code",
   "execution_count": 20,
   "metadata": {},
   "outputs": [
    {
     "name": "stdout",
     "output_type": "stream",
     "text": [
      "0.13014475736723363\n"
     ]
    }
   ],
   "source": [
    "IRR= rate*(1-npv(CashFlows, rate)/Investimento)\n",
    "print(IRR)"
   ]
  },
  {
   "cell_type": "markdown",
   "metadata": {},
   "source": [
    "create a function for payback period"
   ]
  },
  {
   "cell_type": "code",
   "execution_count": 21,
   "metadata": {},
   "outputs": [
    {
     "data": {
      "text/plain": [
       "<generator object payback.<locals>.<genexpr> at 0x000001CCE601C430>"
      ]
     },
     "execution_count": 21,
     "metadata": {},
     "output_type": "execute_result"
    }
   ],
   "source": [
    "def payback(Investimento, CashFlows):\n",
    "    return ((Investimento/f)\n",
    "for f in enumerate (CashFlows))\n",
    "payback (Investimento, CashFlows)"
   ]
  },
  {
   "cell_type": "code",
   "execution_count": null,
   "metadata": {},
   "outputs": [],
   "source": []
  }
 ],
 "metadata": {
  "kernelspec": {
   "display_name": "Python 3",
   "language": "python",
   "name": "python3"
  },
  "language_info": {
   "codemirror_mode": {
    "name": "ipython",
    "version": 3
   },
   "file_extension": ".py",
   "mimetype": "text/x-python",
   "name": "python",
   "nbconvert_exporter": "python",
   "pygments_lexer": "ipython3",
   "version": "3.8.3"
  }
 },
 "nbformat": 4,
 "nbformat_minor": 4
}
