{
 "cells": [
  {
   "cell_type": "code",
   "execution_count": 4,
   "metadata": {},
   "outputs": [],
   "source": [
    "#list of 007 movies where Sean Connery features James Bond \n",
    "moviesSeanConnery = [\"Dr. No (1962)\",\n",
    "\"From Russia with Love (1963)\",\n",
    "\"Goldfinger (1964)\",\n",
    "\"Thunderball (1965)\",\n",
    "\"You Only Live Twice (1967)\", \n",
    "\"Diamonds Are Forever (1971)\", \n",
    "\"Never Say Never Again (1983)\"]\n",
    "\n",
    "#list of 007 movies where David Neven features James Bond\n",
    "moviesDavidNeven=[\"Casino Royale (1967)\"]\n",
    "\n",
    "#list of 007 movies where George Lazenby features James Bond\n",
    "moviesGeorgeLazenby=[\"On Her Majesty's Secret Service (1969)\"]\n",
    "\n",
    "#list of 007 movies where Roger Moore features James Bond\n",
    "moviesRogerMoore=[ \"Live and Let Die (1973)\", \n",
    "\"The Man with the Golden Gun (1974)\",\n",
    "\"The Spy Who Loved Me (1977)\",\n",
    "\"Moonraker (1979)\",\n",
    "\"For Your Eyes Only (1981)\",\n",
    "\"Octopussy (1983)\",\n",
    "\"A View to a Kill (1985)\"]\n",
    "\n",
    "#list of 007 movies where Timothy Dalton features James Bond\n",
    "moviesTimothyDalton=[\"The Living Daylights (1987)\", \n",
    "\"Licence to Kill (1989)\"]\n",
    "\n",
    "#list of 007 movies where Pierce Brosnan features James Bond\n",
    "moviesPierceBrosnan=[\"GoldenEye (1995)\",\n",
    "\"Tomorrow Never Dies (1997)\", \n",
    "\"The World Is Not Enough (1999)\",\n",
    "\"Die Another Day (2002)\"]\n",
    "\n",
    "#list of 007 movies where Daniel Craig features James Bond\n",
    "moviesDanielCraig=[\"Casino Royale (2006)\", \n",
    "\"Quantum of Solace (2008)\",\n",
    "\"Skyfall (2012)\",\n",
    "\"Spectre (2015)\"]"
   ]
  },
  {
   "cell_type": "code",
   "execution_count": 2,
   "metadata": {},
   "outputs": [],
   "source": [
    "#Create a list of lists (movies007). The list will be composed by each list of movies featured by each actor."
   ]
  },
  {
   "cell_type": "code",
   "execution_count": 3,
   "metadata": {},
   "outputs": [],
   "source": [
    "movies007 = list((moviesSeanConnery,moviesDavidNeven,moviesGeorgeLazenby,moviesRogerMoore,moviesPierceBrosnan,moviesDanielCraig))"
   ]
  },
  {
   "cell_type": "code",
   "execution_count": 4,
   "metadata": {},
   "outputs": [
    {
     "name": "stdout",
     "output_type": "stream",
     "text": [
      "[['Dr. No (1962)', 'From Russia with Love (1963)', 'Goldfinger (1964)', 'Thunderball (1965)', 'You Only Live Twice (1967)', 'Diamonds Are Forever (1971)', 'Never Say Never Again (1983)'], ['Casino Royale (1967)'], [\"On Her Majesty's Secret Service (1969)\"], ['Live and Let Die (1973)', 'The Man with the Golden Gun (1974)', 'The Spy Who Loved Me (1977)', 'Moonraker (1979)', 'For Your Eyes Only (1981)', 'Octopussy (1983)', 'A View to a Kill (1985)'], ['GoldenEye (1995)', 'Tomorrow Never Dies (1997)', 'The World Is Not Enough (1999)', 'Die Another Day (2002)'], ['Casino Royale (2006)', 'Quantum of Solace (2008)', 'Skyfall (2012)', 'Spectre (2015)']]\n"
     ]
    }
   ],
   "source": [
    "print(movies007)"
   ]
  },
  {
   "cell_type": "code",
   "execution_count": 5,
   "metadata": {},
   "outputs": [],
   "source": [
    "#How many movies were played by the first actor to play James Bond?"
   ]
  },
  {
   "cell_type": "code",
   "execution_count": 12,
   "metadata": {},
   "outputs": [
    {
     "name": "stdout",
     "output_type": "stream",
     "text": [
      "7\n"
     ]
    }
   ],
   "source": [
    "print(len(movies007[0]))    #vai buscar a 1ª lista e conta o nº de filmes"
   ]
  },
  {
   "cell_type": "code",
   "execution_count": 13,
   "metadata": {},
   "outputs": [],
   "source": [
    "#How many movies were played by the last actor to play James Bond?"
   ]
  },
  {
   "cell_type": "code",
   "execution_count": 14,
   "metadata": {},
   "outputs": [
    {
     "name": "stdout",
     "output_type": "stream",
     "text": [
      "4\n"
     ]
    }
   ],
   "source": [
    "print(len(movies007[-1]))"
   ]
  },
  {
   "cell_type": "code",
   "execution_count": 15,
   "metadata": {},
   "outputs": [],
   "source": [
    "# How many actors played the role of James Bond?"
   ]
  },
  {
   "cell_type": "code",
   "execution_count": 17,
   "metadata": {},
   "outputs": [
    {
     "name": "stdout",
     "output_type": "stream",
     "text": [
      "6\n"
     ]
    }
   ],
   "source": [
    "print(len(movies007))"
   ]
  },
  {
   "cell_type": "code",
   "execution_count": 18,
   "metadata": {},
   "outputs": [],
   "source": [
    "#Create a new list with the number of movies played by each actor"
   ]
  },
  {
   "cell_type": "code",
   "execution_count": 48,
   "metadata": {},
   "outputs": [],
   "source": [
    "first = len(movies007[0])"
   ]
  },
  {
   "cell_type": "code",
   "execution_count": 49,
   "metadata": {},
   "outputs": [],
   "source": [
    "second = len(movies007[1])"
   ]
  },
  {
   "cell_type": "code",
   "execution_count": 50,
   "metadata": {},
   "outputs": [],
   "source": [
    "third = len(movies007[2])"
   ]
  },
  {
   "cell_type": "code",
   "execution_count": 51,
   "metadata": {},
   "outputs": [],
   "source": [
    "fourth = len(movies007[3])"
   ]
  },
  {
   "cell_type": "code",
   "execution_count": 52,
   "metadata": {},
   "outputs": [],
   "source": [
    "fifth = len(movies007[4])"
   ]
  },
  {
   "cell_type": "code",
   "execution_count": 53,
   "metadata": {},
   "outputs": [],
   "source": [
    "sixth = len(movies007[5])"
   ]
  },
  {
   "cell_type": "code",
   "execution_count": 54,
   "metadata": {},
   "outputs": [],
   "source": [
    "seventh = len(movies007[-1])"
   ]
  },
  {
   "cell_type": "code",
   "execution_count": 55,
   "metadata": {},
   "outputs": [],
   "source": [
    "movies007number_list = list((first,second,third,fourth,fifth,sixth,seventh))"
   ]
  },
  {
   "cell_type": "code",
   "execution_count": 58,
   "metadata": {},
   "outputs": [
    {
     "data": {
      "text/plain": [
       "[7, 1, 1, 7, 4, 4, 4]"
      ]
     },
     "execution_count": 58,
     "metadata": {},
     "output_type": "execute_result"
    }
   ],
   "source": [
    "movies007number_list  #nº de filmes por ator"
   ]
  },
  {
   "cell_type": "code",
   "execution_count": 59,
   "metadata": {},
   "outputs": [],
   "source": [
    "#How many movies were played by the actor who appeared most often in movies?"
   ]
  },
  {
   "cell_type": "code",
   "execution_count": 60,
   "metadata": {},
   "outputs": [
    {
     "data": {
      "text/plain": [
       "7"
      ]
     },
     "execution_count": 60,
     "metadata": {},
     "output_type": "execute_result"
    }
   ],
   "source": [
    "max(movies007number_list)"
   ]
  },
  {
   "cell_type": "code",
   "execution_count": 61,
   "metadata": {},
   "outputs": [],
   "source": [
    "#How many movies were played by the actor who appeared in fewer movies?"
   ]
  },
  {
   "cell_type": "code",
   "execution_count": 62,
   "metadata": {},
   "outputs": [
    {
     "data": {
      "text/plain": [
       "1"
      ]
     },
     "execution_count": 62,
     "metadata": {},
     "output_type": "execute_result"
    }
   ],
   "source": [
    "min(movies007number_list)"
   ]
  },
  {
   "cell_type": "code",
   "execution_count": 63,
   "metadata": {},
   "outputs": [],
   "source": [
    "#Create a new list (movies007a) with all the films."
   ]
  },
  {
   "cell_type": "code",
   "execution_count": 5,
   "metadata": {},
   "outputs": [],
   "source": [
    "movies007a = []\n",
    "movies007a.extend(moviesSeanConnery)\n",
    "movies007a.extend(moviesDavidNeven)\n",
    "movies007a.extend(moviesGeorgeLazenby)\n",
    "movies007a.extend(moviesRogerMoore)\n",
    "movies007a.extend(moviesPierceBrosnan)\n",
    "movies007a.extend(moviesDanielCraig)"
   ]
  },
  {
   "cell_type": "code",
   "execution_count": 6,
   "metadata": {},
   "outputs": [
    {
     "name": "stdout",
     "output_type": "stream",
     "text": [
      "['Dr. No (1962)', 'From Russia with Love (1963)', 'Goldfinger (1964)', 'Thunderball (1965)', 'You Only Live Twice (1967)', 'Diamonds Are Forever (1971)', 'Never Say Never Again (1983)', 'Casino Royale (1967)', \"On Her Majesty's Secret Service (1969)\", 'Live and Let Die (1973)', 'The Man with the Golden Gun (1974)', 'The Spy Who Loved Me (1977)', 'Moonraker (1979)', 'For Your Eyes Only (1981)', 'Octopussy (1983)', 'A View to a Kill (1985)', 'GoldenEye (1995)', 'Tomorrow Never Dies (1997)', 'The World Is Not Enough (1999)', 'Die Another Day (2002)', 'Casino Royale (2006)', 'Quantum of Solace (2008)', 'Skyfall (2012)', 'Spectre (2015)']\n"
     ]
    }
   ],
   "source": [
    "print(movies007a)"
   ]
  },
  {
   "cell_type": "code",
   "execution_count": 88,
   "metadata": {},
   "outputs": [],
   "source": [
    "#Sort the elements of the list"
   ]
  },
  {
   "cell_type": "code",
   "execution_count": 7,
   "metadata": {},
   "outputs": [],
   "source": [
    "movies007a.sort()"
   ]
  },
  {
   "cell_type": "code",
   "execution_count": 9,
   "metadata": {},
   "outputs": [
    {
     "name": "stdout",
     "output_type": "stream",
     "text": [
      "['A View to a Kill (1985)', 'Casino Royale (1967)', 'Casino Royale (2006)', 'Diamonds Are Forever (1971)', 'Die Another Day (2002)', 'Dr. No (1962)', 'For Your Eyes Only (1981)', 'From Russia with Love (1963)', 'GoldenEye (1995)', 'Goldfinger (1964)', 'Live and Let Die (1973)', 'Moonraker (1979)', 'Never Say Never Again (1983)', 'Octopussy (1983)', \"On Her Majesty's Secret Service (1969)\", 'Quantum of Solace (2008)', 'Skyfall (2012)', 'Spectre (2015)', 'The Man with the Golden Gun (1974)', 'The Spy Who Loved Me (1977)', 'The World Is Not Enough (1999)', 'Thunderball (1965)', 'Tomorrow Never Dies (1997)', 'You Only Live Twice (1967)']\n"
     ]
    }
   ],
   "source": [
    "print(movies007a)    "
   ]
  },
  {
   "cell_type": "code",
   "execution_count": 91,
   "metadata": {},
   "outputs": [],
   "source": [
    "#Reverse the order of the list. \n",
    "#What will happen if this method is executed twice? \n",
    "#Does this method sort the list if it is not sorted?"
   ]
  },
  {
   "cell_type": "code",
   "execution_count": 10,
   "metadata": {},
   "outputs": [],
   "source": [
    "movies007a.reverse()"
   ]
  },
  {
   "cell_type": "code",
   "execution_count": 11,
   "metadata": {},
   "outputs": [
    {
     "name": "stdout",
     "output_type": "stream",
     "text": [
      "['You Only Live Twice (1967)', 'Tomorrow Never Dies (1997)', 'Thunderball (1965)', 'The World Is Not Enough (1999)', 'The Spy Who Loved Me (1977)', 'The Man with the Golden Gun (1974)', 'Spectre (2015)', 'Skyfall (2012)', 'Quantum of Solace (2008)', \"On Her Majesty's Secret Service (1969)\", 'Octopussy (1983)', 'Never Say Never Again (1983)', 'Moonraker (1979)', 'Live and Let Die (1973)', 'Goldfinger (1964)', 'GoldenEye (1995)', 'From Russia with Love (1963)', 'For Your Eyes Only (1981)', 'Dr. No (1962)', 'Die Another Day (2002)', 'Diamonds Are Forever (1971)', 'Casino Royale (2006)', 'Casino Royale (1967)', 'A View to a Kill (1985)']\n"
     ]
    }
   ],
   "source": [
    "print(movies007a)"
   ]
  },
  {
   "cell_type": "code",
   "execution_count": 12,
   "metadata": {},
   "outputs": [],
   "source": [
    "movies007a.reverse()"
   ]
  },
  {
   "cell_type": "code",
   "execution_count": 13,
   "metadata": {},
   "outputs": [
    {
     "name": "stdout",
     "output_type": "stream",
     "text": [
      "['A View to a Kill (1985)', 'Casino Royale (1967)', 'Casino Royale (2006)', 'Diamonds Are Forever (1971)', 'Die Another Day (2002)', 'Dr. No (1962)', 'For Your Eyes Only (1981)', 'From Russia with Love (1963)', 'GoldenEye (1995)', 'Goldfinger (1964)', 'Live and Let Die (1973)', 'Moonraker (1979)', 'Never Say Never Again (1983)', 'Octopussy (1983)', \"On Her Majesty's Secret Service (1969)\", 'Quantum of Solace (2008)', 'Skyfall (2012)', 'Spectre (2015)', 'The Man with the Golden Gun (1974)', 'The Spy Who Loved Me (1977)', 'The World Is Not Enough (1999)', 'Thunderball (1965)', 'Tomorrow Never Dies (1997)', 'You Only Live Twice (1967)']\n"
     ]
    }
   ],
   "source": [
    "print(movies007a)"
   ]
  },
  {
   "cell_type": "code",
   "execution_count": 14,
   "metadata": {},
   "outputs": [],
   "source": [
    "#What is the index of the movie \"Spectre (2015)\" in the list of movies"
   ]
  },
  {
   "cell_type": "code",
   "execution_count": 15,
   "metadata": {},
   "outputs": [
    {
     "data": {
      "text/plain": [
       "17"
      ]
     },
     "execution_count": 15,
     "metadata": {},
     "output_type": "execute_result"
    }
   ],
   "source": [
    "movies007a.index(\"Spectre (2015)\")"
   ]
  },
  {
   "cell_type": "code",
   "execution_count": 107,
   "metadata": {},
   "outputs": [],
   "source": [
    "#Add the movie \"007 and the bad Guy of the climate change (2020)\" in the 11th position."
   ]
  },
  {
   "cell_type": "code",
   "execution_count": 109,
   "metadata": {},
   "outputs": [],
   "source": [
    "movies007a.insert(10,\"007 and the bad Guy of the climate change (2020)\")"
   ]
  },
  {
   "cell_type": "code",
   "execution_count": 110,
   "metadata": {},
   "outputs": [
    {
     "data": {
      "text/plain": [
       "[\"On Her Majesty's Secret Service (1969)\",\n",
       " 'The Man with the Golden Gun (1974)',\n",
       " 'The World Is Not Enough (1999)',\n",
       " 'From Russia with Love (1963)',\n",
       " 'Never Say Never Again (1983)',\n",
       " 'Diamonds Are Forever (1971)',\n",
       " 'The Spy Who Loved Me (1977)',\n",
       " 'The Living Daylights (1987)',\n",
       " 'You Only Live Twice (1967)',\n",
       " 'Tomorrow Never Dies (1997)',\n",
       " '007 and the bad Guy of the climate change (2020)',\n",
       " 'For Your Eyes Only (1981)',\n",
       " 'Quantum of Solace (2008)',\n",
       " 'Live and Let Die (1973)',\n",
       " 'A View to a Kill (1985)',\n",
       " 'Licence to Kill (1989)',\n",
       " 'Die Another Day (2002)',\n",
       " 'Casino Royale (1967)',\n",
       " 'Casino Royale (2006)',\n",
       " 'Thunderball (1965)',\n",
       " 'Goldfinger (1964)',\n",
       " 'Moonraker (1979)',\n",
       " 'Octopussy (1983)',\n",
       " 'GoldenEye (1995)',\n",
       " 'Skyfall (2012)',\n",
       " 'Spectre (2015)',\n",
       " 'Dr. No (1962)']"
      ]
     },
     "execution_count": 110,
     "metadata": {},
     "output_type": "execute_result"
    }
   ],
   "source": [
    "movies007a"
   ]
  },
  {
   "cell_type": "code",
   "execution_count": 111,
   "metadata": {},
   "outputs": [],
   "source": [
    "#It was a mistake. Remove the movie \"007 and the bad Guy of the climate change (2020)\""
   ]
  },
  {
   "cell_type": "code",
   "execution_count": 112,
   "metadata": {},
   "outputs": [],
   "source": [
    "movies007a.remove(\"007 and the bad Guy of the climate change (2020)\")"
   ]
  },
  {
   "cell_type": "code",
   "execution_count": 113,
   "metadata": {},
   "outputs": [
    {
     "data": {
      "text/plain": [
       "[\"On Her Majesty's Secret Service (1969)\",\n",
       " 'The Man with the Golden Gun (1974)',\n",
       " 'The World Is Not Enough (1999)',\n",
       " 'From Russia with Love (1963)',\n",
       " 'Never Say Never Again (1983)',\n",
       " 'Diamonds Are Forever (1971)',\n",
       " 'The Spy Who Loved Me (1977)',\n",
       " 'The Living Daylights (1987)',\n",
       " 'You Only Live Twice (1967)',\n",
       " 'Tomorrow Never Dies (1997)',\n",
       " 'For Your Eyes Only (1981)',\n",
       " 'Quantum of Solace (2008)',\n",
       " 'Live and Let Die (1973)',\n",
       " 'A View to a Kill (1985)',\n",
       " 'Licence to Kill (1989)',\n",
       " 'Die Another Day (2002)',\n",
       " 'Casino Royale (1967)',\n",
       " 'Casino Royale (2006)',\n",
       " 'Thunderball (1965)',\n",
       " 'Goldfinger (1964)',\n",
       " 'Moonraker (1979)',\n",
       " 'Octopussy (1983)',\n",
       " 'GoldenEye (1995)',\n",
       " 'Skyfall (2012)',\n",
       " 'Spectre (2015)',\n",
       " 'Dr. No (1962)']"
      ]
     },
     "execution_count": 113,
     "metadata": {},
     "output_type": "execute_result"
    }
   ],
   "source": [
    "movies007a"
   ]
  },
  {
   "cell_type": "code",
   "execution_count": null,
   "metadata": {},
   "outputs": [],
   "source": []
  }
 ],
 "metadata": {
  "kernelspec": {
   "display_name": "Python 3",
   "language": "python",
   "name": "python3"
  },
  "language_info": {
   "codemirror_mode": {
    "name": "ipython",
    "version": 3
   },
   "file_extension": ".py",
   "mimetype": "text/x-python",
   "name": "python",
   "nbconvert_exporter": "python",
   "pygments_lexer": "ipython3",
   "version": "3.8.3"
  }
 },
 "nbformat": 4,
 "nbformat_minor": 4
}
