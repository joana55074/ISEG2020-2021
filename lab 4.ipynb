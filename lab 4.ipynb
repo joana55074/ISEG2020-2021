{
 "cells": [
  {
   "cell_type": "code",
   "execution_count": 4,
   "metadata": {},
   "outputs": [],
   "source": [
    "#1) Ask the user to insert his name and age. Then, calculate his birth year"
   ]
  },
  {
   "cell_type": "code",
   "execution_count": 5,
   "metadata": {},
   "outputs": [
    {
     "name": "stdout",
     "output_type": "stream",
     "text": [
      "Insira o seu nome: Joana\n",
      "Insira a sua idade: 21\n",
      "Ano de Nascimento:  1999\n"
     ]
    }
   ],
   "source": [
    "Nome= str(input(\"Insira o seu nome: \"))\n",
    "Idade= int(input(\"Insira a sua idade: \"))\n",
    "Ano=2020\n",
    "AnoNascimento= Ano-Idade\n",
    "print(\"Ano de Nascimento: \", AnoNascimento)"
   ]
  },
  {
   "cell_type": "code",
   "execution_count": null,
   "metadata": {},
   "outputs": [],
   "source": [
    "#2) Ask the user to insert a text. The program will always answer \"yes\". The conversation will be\n",
    "#closed when the user says \"bye\"."
   ]
  },
  {
   "cell_type": "code",
   "execution_count": 16,
   "metadata": {},
   "outputs": [
    {
     "name": "stdout",
     "output_type": "stream",
     "text": [
      "Insira um pequeno texto:ola\n",
      "sim\n",
      "Insira um pequeno texto:adeus\n",
      "sim\n",
      "Insira um pequeno texto:tchau\n",
      "\n"
     ]
    }
   ],
   "source": [
    " texto =\"\"\n",
    "while (texto!=\"tchau\"):\n",
    "    texto = str(input(\"Insira um pequeno texto:\"))\n",
    "    if texto ==\"tchau\":\n",
    "        print()\n",
    "    else:\n",
    "        print (\"sim\")"
   ]
  },
  {
   "cell_type": "code",
   "execution_count": null,
   "metadata": {},
   "outputs": [],
   "source": [
    "#3) Create a function for a greeting"
   ]
  },
  {
   "cell_type": "code",
   "execution_count": 17,
   "metadata": {},
   "outputs": [
    {
     "name": "stdout",
     "output_type": "stream",
     "text": [
      "Oláola\n",
      "Por favor, responda e diga olá\n"
     ]
    }
   ],
   "source": [
    "texto = input (\"Olá\")\n",
    "if texto == \"Olá\":\n",
    "    print (\"Ola, tudo bem?\")\n",
    "else:\n",
    "    print(\"Por favor, responda e diga olá\")"
   ]
  },
  {
   "cell_type": "code",
   "execution_count": 18,
   "metadata": {},
   "outputs": [],
   "source": [
    "#4) Call greeting function at the beginning of the conversation"
   ]
  },
  {
   "cell_type": "code",
   "execution_count": 19,
   "metadata": {},
   "outputs": [
    {
     "name": "stdout",
     "output_type": "stream",
     "text": [
      "Olá\n"
     ]
    }
   ],
   "source": [
    "print (\"Olá\")"
   ]
  },
  {
   "cell_type": "code",
   "execution_count": null,
   "metadata": {
    "collapsed": true
   },
   "outputs": [],
   "source": [
    "#5) Improve your chatbot"
   ]
  },
  {
   "cell_type": "code",
   "execution_count": 20,
   "metadata": {},
   "outputs": [
    {
     "name": "stdout",
     "output_type": "stream",
     "text": [
      "está tudo bem?: sim\n",
      "Ainda bem!\n",
      "Por favor diga alguma coisa\n"
     ]
    }
   ],
   "source": [
    "texto = input(\"está tudo bem?: \")\n",
    "if texto == \"sim\":\n",
    "    print (\"Ainda bem!\")\n",
    "if texto == \"Não\":\n",
    "    print(\"Vai tudo ficar bem\")\n",
    "else:\n",
    "    print (\"Por favor diga alguma coisa\")"
   ]
  },
  {
   "cell_type": "code",
   "execution_count": null,
   "metadata": {},
   "outputs": [],
   "source": []
  }
 ],
 "metadata": {
  "kernelspec": {
   "display_name": "Python 3",
   "language": "python",
   "name": "python3"
  },
  "language_info": {
   "codemirror_mode": {
    "name": "ipython",
    "version": 3
   },
   "file_extension": ".py",
   "mimetype": "text/x-python",
   "name": "python",
   "nbconvert_exporter": "python",
   "pygments_lexer": "ipython3",
   "version": "3.8.3"
  }
 },
 "nbformat": 4,
 "nbformat_minor": 4
}
